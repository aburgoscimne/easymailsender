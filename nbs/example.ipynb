{
 "cells": [
  {
   "cell_type": "code",
   "execution_count": 1,
   "source": [
    "from mailsender.mailsender import MailSender\n",
    "\n",
    "ms = MailSender(\"mail.cimne.upc.edu\", 587, \"TLS\", \"aburgos@cimne.upc.edu\", \"sdfdgdg\")\n",
    "ms.send(\n",
    "    \"aburgos@cimne.upc.edu\",\n",
    "    [\"albertoburgosplaza@gmail.com\"],\n",
    "    \"Prueba\",\n",
    "    \"prueba de sender.\",\n",
    ")"
   ],
   "outputs": [],
   "metadata": {}
  }
 ],
 "metadata": {
  "orig_nbformat": 4,
  "language_info": {
   "name": "python",
   "version": "3.6.9",
   "mimetype": "text/x-python",
   "codemirror_mode": {
    "name": "ipython",
    "version": 3
   },
   "pygments_lexer": "ipython3",
   "nbconvert_exporter": "python",
   "file_extension": ".py"
  },
  "kernelspec": {
   "name": "python3",
   "display_name": "Python 3.6.9 64-bit ('venv': venv)"
  },
  "interpreter": {
   "hash": "d7e7d41b648303fb71f6694bf92ba97bb825e216bacd7eeeae63f5d53987292b"
  }
 },
 "nbformat": 4,
 "nbformat_minor": 2
}